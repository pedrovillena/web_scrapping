{
 "cells": [
  {
   "cell_type": "code",
   "execution_count": 1,
   "id": "1691cb06-7e83-4fab-b860-adcbfde469dd",
   "metadata": {},
   "outputs": [
    {
     "name": "stdout",
     "output_type": "stream",
     "text": [
      "Requirement already satisfied: praw in c:\\users\\admin\\anaconda3\\envs\\selenium_env\\lib\\site-packages (7.8.1)\n",
      "Requirement already satisfied: prawcore<3,>=2.4 in c:\\users\\admin\\anaconda3\\envs\\selenium_env\\lib\\site-packages (from praw) (2.4.0)\n",
      "Requirement already satisfied: update_checker>=0.18 in c:\\users\\admin\\anaconda3\\envs\\selenium_env\\lib\\site-packages (from praw) (0.18.0)\n",
      "Requirement already satisfied: websocket-client>=0.54.0 in c:\\users\\admin\\anaconda3\\envs\\selenium_env\\lib\\site-packages (from praw) (1.8.0)\n",
      "Requirement already satisfied: requests<3.0,>=2.6.0 in c:\\users\\admin\\anaconda3\\envs\\selenium_env\\lib\\site-packages (from prawcore<3,>=2.4->praw) (2.32.5)\n",
      "Requirement already satisfied: charset_normalizer<4,>=2 in c:\\users\\admin\\anaconda3\\envs\\selenium_env\\lib\\site-packages (from requests<3.0,>=2.6.0->prawcore<3,>=2.4->praw) (3.3.2)\n",
      "Requirement already satisfied: idna<4,>=2.5 in c:\\users\\admin\\anaconda3\\envs\\selenium_env\\lib\\site-packages (from requests<3.0,>=2.6.0->prawcore<3,>=2.4->praw) (3.10)\n",
      "Requirement already satisfied: urllib3<3,>=1.21.1 in c:\\users\\admin\\anaconda3\\envs\\selenium_env\\lib\\site-packages (from requests<3.0,>=2.6.0->prawcore<3,>=2.4->praw) (2.5.0)\n",
      "Requirement already satisfied: certifi>=2017.4.17 in c:\\users\\admin\\anaconda3\\envs\\selenium_env\\lib\\site-packages (from requests<3.0,>=2.6.0->prawcore<3,>=2.4->praw) (2025.8.3)\n",
      "Note: you may need to restart the kernel to use updated packages.\n"
     ]
    }
   ],
   "source": [
    "pip install praw"
   ]
  },
  {
   "cell_type": "code",
   "execution_count": 3,
   "id": "0555829d-2b6d-4977-a939-07204bfb3818",
   "metadata": {},
   "outputs": [],
   "source": [
    "import praw\n",
    "import pandas as pd"
   ]
  },
  {
   "cell_type": "code",
   "execution_count": 45,
   "id": "830137eb-d31c-4732-8de4-72a4267851d4",
   "metadata": {},
   "outputs": [],
   "source": [
    "# Configuración de credenciales (GUARDAR en variables de entorno si puedes)\n",
    "CLIENT_ID = \"Pedro261291\"\n",
    "CLIENT_SECRET = \"HVRnvfrvgo9V10yuOLM5yJaHrYUmlg\"\n",
    "USERNAME = \"Pedro_Webscrapping\"\n",
    "PASSWORD = \"Alejandra2612\"\n",
    "USER_AGENT = f\"Python:webscrappingProject:v1.0 (by /u/{USERNAME})\""
   ]
  },
  {
   "cell_type": "code",
   "execution_count": 38,
   "id": "b02e7dfb-ab39-4018-bdb9-b4ba0482c6ec",
   "metadata": {},
   "outputs": [],
   "source": [
    "# Conexión a Reddit\n",
    "reddit = praw.Reddit(\n",
    "    client_id=CLIENT_ID,\n",
    "    client_secret=CLIENT_SECRET,\n",
    "    username=USERNAME,\n",
    "    password=PASSWORD,\n",
    "    user_agent=USER_AGENT\n",
    ")"
   ]
  },
  {
   "cell_type": "code",
   "execution_count": 58,
   "id": "a2821465-4e43-48b0-8c7d-38f2d2fa08d8",
   "metadata": {},
   "outputs": [
    {
     "name": "stdout",
     "output_type": "stream",
     "text": [
      "📥 Extrayendo posts...\n",
      "✅ Guardado: ../output/reddit_posts.csv\n"
     ]
    }
   ],
   "source": [
    "subreddits = [\"politics\", \"PoliticalDiscussion\", \"worldnews\"]\n",
    "posts_data = []\n",
    "\n",
    "print(\"📥 Extrayendo posts...\")\n",
    "for sub in subreddits:\n",
    "    subreddit = reddit.subreddit(sub)\n",
    "    for post in subreddit.hot(limit=20):  # 20 posts por subreddit\n",
    "        posts_data.append({\n",
    "            \"id\": post.id,\n",
    "            \"subreddit\": sub,\n",
    "            \"title\": post.title,\n",
    "            \"score\": post.score,\n",
    "            \"num_comments\": post.num_comments,\n",
    "            \"url\": post.url\n",
    "        })\n",
    "\n",
    "df_posts = pd.DataFrame(posts_data)\n",
    "df_posts.to_csv(\"../output/reddit_posts.csv\", index=False)\n",
    "print(\"✅ Guardado: ../output/reddit_posts.csv\")"
   ]
  },
  {
   "cell_type": "code",
   "execution_count": null,
   "id": "b4128bac-8a80-489f-9334-cee66368f532",
   "metadata": {},
   "outputs": [],
   "source": [
    "comments_data = []\n",
    "\n",
    "print(\"💬 Extrayendo comentarios...\")\n",
    "for post_id in df_posts[\"id\"]:\n",
    "    submission = reddit.submission(id=post_id)\n",
    "    submission.comments.replace_more(limit=0)  # elimina objetos \"MoreComments\"\n",
    "    for comment in submission.comments[:5]:   # solo 5 comentarios por post\n",
    "        comments_data.append({\n",
    "            \"post_id\": post_id,\n",
    "            \"comment_body\": comment.body,\n",
    "            \"comment_score\": comment.score\n",
    "        })\n",
    "\n",
    "df_comments = pd.DataFrame(comments_data)\n",
    "df_comments.to_csv(\"../output/reddit_comments.csv\", index=False)\n",
    "print(\"✅ Guardado: ../output/reddit_comments.csv\")\n",
    "print(\"Proceso completado con éxito.\")"
   ]
  }
 ],
 "metadata": {
  "kernelspec": {
   "display_name": "Python 3 (ipykernel)",
   "language": "python",
   "name": "python3"
  },
  "language_info": {
   "codemirror_mode": {
    "name": "ipython",
    "version": 3
   },
   "file_extension": ".py",
   "mimetype": "text/x-python",
   "name": "python",
   "nbconvert_exporter": "python",
   "pygments_lexer": "ipython3",
   "version": "3.11.13"
  }
 },
 "nbformat": 4,
 "nbformat_minor": 5
}
